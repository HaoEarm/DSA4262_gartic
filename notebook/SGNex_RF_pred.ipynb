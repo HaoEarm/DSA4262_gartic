{
 "cells": [
  {
   "cell_type": "code",
   "execution_count": 1,
   "metadata": {},
   "outputs": [],
   "source": [
    "import pandas as pd\n",
    "\n",
    "import joblib\n",
    "import os"
   ]
  },
  {
   "cell_type": "code",
   "execution_count": 2,
   "metadata": {},
   "outputs": [],
   "source": [
    "# Loading the pretrained Random Forest Model\n",
    "dirname = os.path.dirname(__name__) # Path to SGNexRF.ipynb\n",
    "filename = os.path.join(dirname, '../model/RF_updated.joblib') # Relative path to model folder\n",
    "rf = joblib.load(filename)\n",
    "\n",
    "# Loading scaler used from training\n",
    "filename2 = os.path.join(dirname, '../model/RF_scaler.joblib') # Relative path to model folder\n",
    "scaler = joblib.load(filename2)\n"
   ]
  },
  {
   "cell_type": "code",
   "execution_count": 4,
   "metadata": {},
   "outputs": [
    {
     "name": "stdout",
     "output_type": "stream",
     "text": [
      "../SGNexData/HepG2R6R1_processed.csv\n"
     ]
    },
    {
     "name": "stderr",
     "output_type": "stream",
     "text": [
      "/var/folders/pr/6ds62gwj6td31d_1nxp8lf8w0000gn/T/ipykernel_11253/1329983306.py:33: SettingWithCopyWarning: \n",
      "A value is trying to be set on a copy of a slice from a DataFrame.\n",
      "Try using .loc[row_indexer,col_indexer] = value instead\n",
      "\n",
      "See the caveats in the documentation: https://pandas.pydata.org/pandas-docs/stable/user_guide/indexing.html#returning-a-view-versus-a-copy\n",
      "  output['score'] = pd.Series(predicted_probabilities)\n"
     ]
    },
    {
     "name": "stdout",
     "output_type": "stream",
     "text": [
      "Average Predicted Score for HepG2R6R1_processed.csv: 0.14836255583459543\n",
      "../SGNexData/K562R5R1_processed.csv\n"
     ]
    },
    {
     "name": "stderr",
     "output_type": "stream",
     "text": [
      "/var/folders/pr/6ds62gwj6td31d_1nxp8lf8w0000gn/T/ipykernel_11253/1329983306.py:33: SettingWithCopyWarning: \n",
      "A value is trying to be set on a copy of a slice from a DataFrame.\n",
      "Try using .loc[row_indexer,col_indexer] = value instead\n",
      "\n",
      "See the caveats in the documentation: https://pandas.pydata.org/pandas-docs/stable/user_guide/indexing.html#returning-a-view-versus-a-copy\n",
      "  output['score'] = pd.Series(predicted_probabilities)\n"
     ]
    },
    {
     "name": "stdout",
     "output_type": "stream",
     "text": [
      "Average Predicted Score for K562R5R1_processed.csv: 0.1442863630188457\n",
      "../SGNexData/Hct116R3R4_processed.csv\n"
     ]
    },
    {
     "name": "stderr",
     "output_type": "stream",
     "text": [
      "/var/folders/pr/6ds62gwj6td31d_1nxp8lf8w0000gn/T/ipykernel_11253/1329983306.py:33: SettingWithCopyWarning: \n",
      "A value is trying to be set on a copy of a slice from a DataFrame.\n",
      "Try using .loc[row_indexer,col_indexer] = value instead\n",
      "\n",
      "See the caveats in the documentation: https://pandas.pydata.org/pandas-docs/stable/user_guide/indexing.html#returning-a-view-versus-a-copy\n",
      "  output['score'] = pd.Series(predicted_probabilities)\n"
     ]
    },
    {
     "name": "stdout",
     "output_type": "stream",
     "text": [
      "Average Predicted Score for Hct116R3R4_processed.csv: 0.1527599856892133\n",
      "../SGNexData/Hct116R4R3_processed.csv\n"
     ]
    },
    {
     "name": "stderr",
     "output_type": "stream",
     "text": [
      "/var/folders/pr/6ds62gwj6td31d_1nxp8lf8w0000gn/T/ipykernel_11253/1329983306.py:33: SettingWithCopyWarning: \n",
      "A value is trying to be set on a copy of a slice from a DataFrame.\n",
      "Try using .loc[row_indexer,col_indexer] = value instead\n",
      "\n",
      "See the caveats in the documentation: https://pandas.pydata.org/pandas-docs/stable/user_guide/indexing.html#returning-a-view-versus-a-copy\n",
      "  output['score'] = pd.Series(predicted_probabilities)\n"
     ]
    },
    {
     "name": "stdout",
     "output_type": "stream",
     "text": [
      "Average Predicted Score for Hct116R4R3_processed.csv: 0.15716524550444538\n",
      "../SGNexData/K562R4R1_processed.csv\n"
     ]
    },
    {
     "name": "stderr",
     "output_type": "stream",
     "text": [
      "/var/folders/pr/6ds62gwj6td31d_1nxp8lf8w0000gn/T/ipykernel_11253/1329983306.py:33: SettingWithCopyWarning: \n",
      "A value is trying to be set on a copy of a slice from a DataFrame.\n",
      "Try using .loc[row_indexer,col_indexer] = value instead\n",
      "\n",
      "See the caveats in the documentation: https://pandas.pydata.org/pandas-docs/stable/user_guide/indexing.html#returning-a-view-versus-a-copy\n",
      "  output['score'] = pd.Series(predicted_probabilities)\n"
     ]
    },
    {
     "name": "stdout",
     "output_type": "stream",
     "text": [
      "Average Predicted Score for K562R4R1_processed.csv: 0.14330856068754957\n",
      "../SGNexData/A549R5R1_processed.csv\n"
     ]
    },
    {
     "name": "stderr",
     "output_type": "stream",
     "text": [
      "/var/folders/pr/6ds62gwj6td31d_1nxp8lf8w0000gn/T/ipykernel_11253/1329983306.py:33: SettingWithCopyWarning: \n",
      "A value is trying to be set on a copy of a slice from a DataFrame.\n",
      "Try using .loc[row_indexer,col_indexer] = value instead\n",
      "\n",
      "See the caveats in the documentation: https://pandas.pydata.org/pandas-docs/stable/user_guide/indexing.html#returning-a-view-versus-a-copy\n",
      "  output['score'] = pd.Series(predicted_probabilities)\n"
     ]
    },
    {
     "name": "stdout",
     "output_type": "stream",
     "text": [
      "Average Predicted Score for A549R5R1_processed.csv: 0.14677226337130414\n",
      "../SGNexData/HepG2R5R2_processed.csv\n"
     ]
    },
    {
     "name": "stderr",
     "output_type": "stream",
     "text": [
      "/var/folders/pr/6ds62gwj6td31d_1nxp8lf8w0000gn/T/ipykernel_11253/1329983306.py:33: SettingWithCopyWarning: \n",
      "A value is trying to be set on a copy of a slice from a DataFrame.\n",
      "Try using .loc[row_indexer,col_indexer] = value instead\n",
      "\n",
      "See the caveats in the documentation: https://pandas.pydata.org/pandas-docs/stable/user_guide/indexing.html#returning-a-view-versus-a-copy\n",
      "  output['score'] = pd.Series(predicted_probabilities)\n"
     ]
    },
    {
     "name": "stdout",
     "output_type": "stream",
     "text": [
      "Average Predicted Score for HepG2R5R2_processed.csv: 0.13451557891234478\n",
      "../SGNexData/K562R6R1_processed.csv\n"
     ]
    },
    {
     "name": "stderr",
     "output_type": "stream",
     "text": [
      "/var/folders/pr/6ds62gwj6td31d_1nxp8lf8w0000gn/T/ipykernel_11253/1329983306.py:33: SettingWithCopyWarning: \n",
      "A value is trying to be set on a copy of a slice from a DataFrame.\n",
      "Try using .loc[row_indexer,col_indexer] = value instead\n",
      "\n",
      "See the caveats in the documentation: https://pandas.pydata.org/pandas-docs/stable/user_guide/indexing.html#returning-a-view-versus-a-copy\n",
      "  output['score'] = pd.Series(predicted_probabilities)\n"
     ]
    },
    {
     "name": "stdout",
     "output_type": "stream",
     "text": [
      "Average Predicted Score for K562R6R1_processed.csv: 0.14869921929736762\n",
      "../SGNexData/Hct116R3R1_processed.csv\n"
     ]
    },
    {
     "name": "stderr",
     "output_type": "stream",
     "text": [
      "/var/folders/pr/6ds62gwj6td31d_1nxp8lf8w0000gn/T/ipykernel_11253/1329983306.py:33: SettingWithCopyWarning: \n",
      "A value is trying to be set on a copy of a slice from a DataFrame.\n",
      "Try using .loc[row_indexer,col_indexer] = value instead\n",
      "\n",
      "See the caveats in the documentation: https://pandas.pydata.org/pandas-docs/stable/user_guide/indexing.html#returning-a-view-versus-a-copy\n",
      "  output['score'] = pd.Series(predicted_probabilities)\n"
     ]
    },
    {
     "name": "stdout",
     "output_type": "stream",
     "text": [
      "Average Predicted Score for Hct116R3R1_processed.csv: 0.14298592612292718\n",
      "../SGNexData/MCF7R4R1_processed.csv\n"
     ]
    },
    {
     "name": "stderr",
     "output_type": "stream",
     "text": [
      "/var/folders/pr/6ds62gwj6td31d_1nxp8lf8w0000gn/T/ipykernel_11253/1329983306.py:33: SettingWithCopyWarning: \n",
      "A value is trying to be set on a copy of a slice from a DataFrame.\n",
      "Try using .loc[row_indexer,col_indexer] = value instead\n",
      "\n",
      "See the caveats in the documentation: https://pandas.pydata.org/pandas-docs/stable/user_guide/indexing.html#returning-a-view-versus-a-copy\n",
      "  output['score'] = pd.Series(predicted_probabilities)\n"
     ]
    },
    {
     "name": "stdout",
     "output_type": "stream",
     "text": [
      "Average Predicted Score for MCF7R4R1_processed.csv: 0.14368808358379065\n",
      "../SGNexData/MCF7R3R1_processed.csv\n"
     ]
    },
    {
     "name": "stderr",
     "output_type": "stream",
     "text": [
      "/var/folders/pr/6ds62gwj6td31d_1nxp8lf8w0000gn/T/ipykernel_11253/1329983306.py:33: SettingWithCopyWarning: \n",
      "A value is trying to be set on a copy of a slice from a DataFrame.\n",
      "Try using .loc[row_indexer,col_indexer] = value instead\n",
      "\n",
      "See the caveats in the documentation: https://pandas.pydata.org/pandas-docs/stable/user_guide/indexing.html#returning-a-view-versus-a-copy\n",
      "  output['score'] = pd.Series(predicted_probabilities)\n"
     ]
    },
    {
     "name": "stdout",
     "output_type": "stream",
     "text": [
      "Average Predicted Score for MCF7R3R1_processed.csv: 0.14452192489803353\n",
      "../SGNexData/A549R6R1_processed.csv\n"
     ]
    },
    {
     "name": "stderr",
     "output_type": "stream",
     "text": [
      "/var/folders/pr/6ds62gwj6td31d_1nxp8lf8w0000gn/T/ipykernel_11253/1329983306.py:33: SettingWithCopyWarning: \n",
      "A value is trying to be set on a copy of a slice from a DataFrame.\n",
      "Try using .loc[row_indexer,col_indexer] = value instead\n",
      "\n",
      "See the caveats in the documentation: https://pandas.pydata.org/pandas-docs/stable/user_guide/indexing.html#returning-a-view-versus-a-copy\n",
      "  output['score'] = pd.Series(predicted_probabilities)\n"
     ]
    },
    {
     "name": "stdout",
     "output_type": "stream",
     "text": [
      "Average Predicted Score for A549R6R1_processed.csv: 0.14816239598181766\n"
     ]
    }
   ],
   "source": [
    "# Specifying file locations\n",
    "data_folder = \"../SGNexData\"\n",
    "output_folder = \"../output\"\n",
    "\n",
    "# Running model predictions\n",
    "for file in os.listdir(data_folder):\n",
    "    if file.endswith(\".csv\"):\n",
    "        df_file_path = os.path.join(data_folder,file)\n",
    "        print(df_file_path)\n",
    "        df = pd.read_csv(df_file_path)\n",
    "\n",
    "        #Rename columns:\n",
    "        df = df.rename(columns={\n",
    "            'ENST_ID': 'transcript_id',\n",
    "            'Position': 'transcript_position',\n",
    "            'ENST_ID_encoded': 'transcript_id_encoded'\n",
    "        })\n",
    "\n",
    "        #Drop features that are not needed\n",
    "        X = df.drop(columns=['transcript_id','Key'])\n",
    "\n",
    "        # Scale new input data\n",
    "        X_scaled = scaler.transform(X)\n",
    "\n",
    "        # Run model predictions\n",
    "        predicted_probabilities = rf.predict_proba(X_scaled)[:, 1]\n",
    "\n",
    "        # Create output submission file in required format\n",
    "        # transcript_id, transcript_position, score\n",
    "        output = df[['transcript_id', 'transcript_position']]\n",
    "\n",
    "        # Add in prediction scores as 'score' column\n",
    "        output['score'] = pd.Series(predicted_probabilities)\n",
    "\n",
    "        # Obtain the average of the scores and print it out\n",
    "        avg_pred_score = output['score'].mean()\n",
    "        print(f\"Average Predicted Score for {file}: {avg_pred_score}\")\n",
    "\n",
    "        # Saving final output file for comparison across cell lines\n",
    "        output_file_name = file.replace(\"_processed\", \"_RF_predict\")\n",
    "        csv_file_path = os.path.join(output_folder, output_file_name)\n",
    "        output.to_csv(csv_file_path, index=False)"
   ]
  }
 ],
 "metadata": {
  "kernelspec": {
   "display_name": "Python 3",
   "language": "python",
   "name": "python3"
  },
  "language_info": {
   "codemirror_mode": {
    "name": "ipython",
    "version": 3
   },
   "file_extension": ".py",
   "mimetype": "text/x-python",
   "name": "python",
   "nbconvert_exporter": "python",
   "pygments_lexer": "ipython3",
   "version": "3.12.2"
  }
 },
 "nbformat": 4,
 "nbformat_minor": 2
}
