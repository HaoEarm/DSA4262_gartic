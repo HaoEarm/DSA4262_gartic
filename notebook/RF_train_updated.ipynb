{
 "cells": [
  {
   "cell_type": "code",
   "execution_count": 1,
   "metadata": {},
   "outputs": [],
   "source": [
    "# Importing Libraries\n",
    "import pandas as pd\n",
    "\n",
    "from sklearn.ensemble import RandomForestClassifier\n",
    "from sklearn.metrics import roc_auc_score, accuracy_score\n",
    "from imblearn.over_sampling import SMOTE\n",
    "from sklearn.preprocessing import StandardScaler\n",
    "\n",
    "import os\n",
    "import joblib"
   ]
  },
  {
   "cell_type": "code",
   "execution_count": 2,
   "metadata": {},
   "outputs": [],
   "source": [
    "# Reading in the parsed data\n",
    "df = pd.read_csv('/Users/chloe/Desktop/NUS/Year 4/dsa4262/DSA4262_gartic/Data/processed_data.csv')\n",
    "train_data  = pd.read_csv('/Users/chloe/Desktop/NUS/Year 4/dsa4262/DSA4262_gartic/Data/train_data.csv')\n",
    "test_data  = pd.read_csv('/Users/chloe/Desktop/NUS/Year 4/dsa4262/DSA4262_gartic/Data/test_data.csv')\n",
    "val_data  = pd.read_csv('/Users/chloe/Desktop/NUS/Year 4/dsa4262/DSA4262_gartic/Data/val_data.csv')"
   ]
  },
  {
   "cell_type": "code",
   "execution_count": 3,
   "metadata": {},
   "outputs": [],
   "source": [
    "# Drop features that are not needed / redundant\n",
    "# Split into X and y (Features and Label)\n",
    "X_train = train_data.drop(columns=['label','gene_id','transcript_id','Key','gene_id_encoded'])\n",
    "y_train = train_data['label']\n",
    "\n",
    "X_val = val_data.drop(columns=['label','gene_id','transcript_id','Key','gene_id_encoded'])\n",
    "y_val = val_data['label']\n",
    "\n",
    "X_test = test_data.drop(columns=['label','gene_id','transcript_id','Key','gene_id_encoded'])\n",
    "y_test = test_data['label']"
   ]
  },
  {
   "cell_type": "code",
   "execution_count": 4,
   "metadata": {},
   "outputs": [],
   "source": [
    "# Addressing class imbalance in the Dataset using SMOTE + class weight + scale\n",
    "# More Positive cases than Negative Cases\n",
    "\n",
    "scaler = StandardScaler()\n",
    "X_train_scaled = scaler.fit_transform(X_train)\n",
    "X_val_scaled = scaler.transform(X_val)\n",
    "X_test_scaled = scaler.transform(X_test)\n",
    "smote = SMOTE(random_state=42)\n",
    "X_train_resampled, y_train_resampled = smote.fit_resample(X_train_scaled, y_train)"
   ]
  },
  {
   "cell_type": "code",
   "execution_count": 5,
   "metadata": {},
   "outputs": [
    {
     "name": "stdout",
     "output_type": "stream",
     "text": [
      "Random Forest Model has finished training\n"
     ]
    }
   ],
   "source": [
    "# Begin Training the Model\n",
    "rf = RandomForestClassifier(class_weight='balanced')\n",
    "rf.fit(X_train_resampled, y_train_resampled)\n",
    "print(\"Random Forest Model has finished training\")"
   ]
  },
  {
   "cell_type": "code",
   "execution_count": 6,
   "metadata": {},
   "outputs": [
    {
     "name": "stdout",
     "output_type": "stream",
     "text": [
      "Validation ROC AUC Score: 0.87\n",
      "Validation Accuracy Score: 0.94\n"
     ]
    }
   ],
   "source": [
    "# Running on validation data\n",
    "val_predictions = rf.predict(X_val_scaled)\n",
    "val_probabilities = rf.predict_proba(X_val_scaled)[:, 1]\n",
    "val_accuracy = accuracy_score(y_val, val_predictions)\n",
    "val_roc_auc = roc_auc_score(y_val, val_probabilities)\n",
    "\n",
    "print(f'Validation ROC AUC Score: {val_roc_auc:.2f}')\n",
    "print(f'Validation Accuracy Score: {val_accuracy:.2f}')"
   ]
  },
  {
   "cell_type": "code",
   "execution_count": 7,
   "metadata": {},
   "outputs": [
    {
     "name": "stdout",
     "output_type": "stream",
     "text": [
      "Test ROC AUC: 0.88\n",
      "Test Accuracy: 0.94\n"
     ]
    }
   ],
   "source": [
    "# Running on test data\n",
    "test_predictions = rf.predict(X_test_scaled)\n",
    "test_probabilities = rf.predict_proba(X_test_scaled)[:, 1]\n",
    "test_accuracy = accuracy_score(y_test, test_predictions)\n",
    "test_roc_auc = roc_auc_score(y_test, test_probabilities)\n",
    "\n",
    "print(f\"Test ROC AUC: {test_roc_auc:.2f}\")\n",
    "print(f\"Test Accuracy: {test_accuracy:.2f}\")"
   ]
  },
  {
   "cell_type": "code",
   "execution_count": 9,
   "metadata": {},
   "outputs": [
    {
     "data": {
      "text/plain": [
       "['../model/RF_updated.joblib']"
      ]
     },
     "execution_count": 9,
     "metadata": {},
     "output_type": "execute_result"
    }
   ],
   "source": [
    "# Saving the trained Model\n",
    "dirname = os.path.dirname(__name__) # Path to this train.py\n",
    "filename = os.path.join(dirname, '../model/RF_updated.joblib') # Relative path to model folder\n",
    "joblib.dump(rf, filename, compress=9)"
   ]
  },
  {
   "cell_type": "code",
   "execution_count": 10,
   "metadata": {},
   "outputs": [
    {
     "name": "stdout",
     "output_type": "stream",
     "text": [
      "Random Forest Model has been saved, training script has finished running.\n"
     ]
    }
   ],
   "source": [
    "# Saving Standard Scaler for future Predictions\n",
    "filename2 = os.path.join(dirname, '../model/RF_scaler.joblib') # Relative path to model folder\n",
    "joblib.dump(scaler, filename2)\n",
    "\n",
    "print(\"Random Forest Model has been saved, training script has finished running.\")"
   ]
  }
 ],
 "metadata": {
  "kernelspec": {
   "display_name": "Python 3",
   "language": "python",
   "name": "python3"
  },
  "language_info": {
   "codemirror_mode": {
    "name": "ipython",
    "version": 3
   },
   "file_extension": ".py",
   "mimetype": "text/x-python",
   "name": "python",
   "nbconvert_exporter": "python",
   "pygments_lexer": "ipython3",
   "version": "3.12.2"
  }
 },
 "nbformat": 4,
 "nbformat_minor": 2
}
