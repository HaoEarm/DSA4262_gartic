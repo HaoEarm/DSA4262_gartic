{
 "cells": [
  {
   "cell_type": "code",
   "execution_count": 2,
   "metadata": {},
   "outputs": [],
   "source": [
    "import os\n",
    "import pandas as pd\n",
    "import matplotlib.pyplot as plt"
   ]
  },
  {
   "cell_type": "code",
   "execution_count": null,
   "metadata": {},
   "outputs": [],
   "source": [
    "folder = \"../output\"\n",
    "\n",
    "for file in os.listdir(folder):\n",
    "    file_path = os.path.join(folder, file)\n",
    "\n",
    "    if file.endswith(\".csv\"):\n",
    "        df = pd.read_csv(file_path)\n",
    "        total_rows = df['transcript_id'].count()\n",
    "        positive_instance = 0\n",
    "\n",
    "        for index, row in df.iterrows():\n",
    "            if row['score'] > 0.5:\n",
    "                positive_instance += 1\n",
    "        \n",
    "        pct = (positive_instance / total_rows)*100\n",
    "\n",
    "        print(file, total_rows, positive_instance, pct)"
   ]
  },
  {
   "cell_type": "code",
   "execution_count": null,
   "metadata": {},
   "outputs": [],
   "source": [
    "folder = \"/Users/chloe/Desktop/NUS/Year 4/dsa4262/group proj/output\"\n",
    "\n",
    "for file in os.listdir(folder):\n",
    "    file_path = os.path.join(folder, file)\n",
    "\n",
    "    print(file_path)\n",
    "\n",
    "    if file.endswith(\".csv\"):\n",
    "        df = pd.read_csv(file_path)\n",
    "        df_sorted = df.sort_values(by='score', ascending=False)\n",
    "\n",
    "        top_10_transcripts = df_sorted.head(20000)\n",
    "\n",
    "        print(file)\n",
    "\n",
    "        # Plotting\n",
    "        plt.figure(figsize=(10, 10))  # Set the figure size\n",
    "        plt.plot(top_10_transcripts['transcript_id'], top_10_transcripts['score'], marker = 'o', color='skyblue', linestyle='-', linewidth=2, markersize=5)  # Create a line chart\n",
    "        #plt.plot(top_10_transcripts['score'], top_10_transcripts['transcript_id'], marker = 'o', color='skyblue', linestyle='-', linewidth=2, markersize=5)  # Create a line chart\n",
    "        #plt.bar(df['transcript_id'], df['score'], color='skyblue')\n",
    "        plt.xlabel('Transcript ID')  # Label for the x-axis\n",
    "        plt.ylabel('Score')  # Label for the y-axis\n",
    "        plt.title(f'Transcript ID vs Score ({file})')  # Title of the plot\n",
    "        plt.xticks([])\n",
    "        #plt.xticks(rotation=45)  # Rotate x-axis labels if needed\n",
    "        #plt.tight_layout()  # Adjust layout to prevent clipping\n",
    "        plt.show()  # Display the plot"
   ]
  },
  {
   "cell_type": "code",
   "execution_count": null,
   "metadata": {},
   "outputs": [],
   "source": [
    "folder = \"/Users/chloe/Desktop/NUS/Year 4/dsa4262/group proj/output\"\n",
    "\n",
    "for file in os.listdir(folder):\n",
    "    file_path = os.path.join(folder, file)\n",
    "\n",
    "    print(file_path)\n",
    "\n",
    "    if file.endswith(\".csv\"):\n",
    "        df = pd.read_csv(file_path)\n",
    "        df_sorted = df.sort_values(by='score', ascending=False)\n",
    "\n",
    "        top_10_transcripts = df_sorted.head(20000)\n",
    "\n",
    "        print(file)\n",
    "\n",
    "        plt.figure(figsize=(8, 6))  # Set the figure size\n",
    "        df_sorted.boxplot(column='score')  # Create a boxplot for the 'score' column\n",
    "        plt.title(f'Boxplot of Scores ({file})')  # Title of the plot\n",
    "        plt.ylabel('Score')  # Label for the y-axis\n",
    "        plt.xlabel('Transcript ID')  # Label for the x-axis (optional)\n",
    "        plt.tight_layout()  # Adjust layout to prevent clipping\n",
    "        plt.show()  # Display the plot"
   ]
  }
 ],
 "metadata": {
  "kernelspec": {
   "display_name": "Python 3",
   "language": "python",
   "name": "python3"
  },
  "language_info": {
   "codemirror_mode": {
    "name": "ipython",
    "version": 3
   },
   "file_extension": ".py",
   "mimetype": "text/x-python",
   "name": "python",
   "nbconvert_exporter": "python",
   "pygments_lexer": "ipython3",
   "version": "3.12.2"
  }
 },
 "nbformat": 4,
 "nbformat_minor": 2
}
