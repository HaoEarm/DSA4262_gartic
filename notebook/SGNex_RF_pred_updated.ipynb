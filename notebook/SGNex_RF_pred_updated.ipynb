{
 "cells": [
  {
   "cell_type": "code",
   "execution_count": 1,
   "metadata": {},
   "outputs": [],
   "source": [
    "import pandas as pd\n",
    "\n",
    "import joblib\n",
    "import os"
   ]
  },
  {
   "cell_type": "code",
   "execution_count": 8,
   "metadata": {},
   "outputs": [
    {
     "name": "stderr",
     "output_type": "stream",
     "text": [
      "/Library/Frameworks/Python.framework/Versions/3.12/lib/python3.12/site-packages/sklearn/base.py:376: InconsistentVersionWarning: Trying to unpickle estimator DecisionTreeClassifier from version 1.5.2 when using version 1.4.1.post1. This might lead to breaking code or invalid results. Use at your own risk. For more info please refer to:\n",
      "https://scikit-learn.org/stable/model_persistence.html#security-maintainability-limitations\n",
      "  warnings.warn(\n",
      "/Library/Frameworks/Python.framework/Versions/3.12/lib/python3.12/site-packages/sklearn/base.py:376: InconsistentVersionWarning: Trying to unpickle estimator RandomForestClassifier from version 1.5.2 when using version 1.4.1.post1. This might lead to breaking code or invalid results. Use at your own risk. For more info please refer to:\n",
      "https://scikit-learn.org/stable/model_persistence.html#security-maintainability-limitations\n",
      "  warnings.warn(\n",
      "/Library/Frameworks/Python.framework/Versions/3.12/lib/python3.12/site-packages/sklearn/base.py:376: InconsistentVersionWarning: Trying to unpickle estimator StandardScaler from version 1.5.2 when using version 1.4.1.post1. This might lead to breaking code or invalid results. Use at your own risk. For more info please refer to:\n",
      "https://scikit-learn.org/stable/model_persistence.html#security-maintainability-limitations\n",
      "  warnings.warn(\n"
     ]
    }
   ],
   "source": [
    "# Loading the pretrained Random Forest Model\n",
    "dirname = os.path.dirname(__name__) # Path to SGNexRF.ipynb\n",
    "filename = os.path.join(dirname, '../model/Random_Forest_v2.joblib') # Relative path to model folder\n",
    "rf = joblib.load(filename)\n",
    "\n",
    "# Loading scaler used from training\n",
    "filename2 = os.path.join(dirname, '../model/scaler.joblib') # Relative path to model folder\n",
    "scaler = joblib.load(filename2)\n"
   ]
  },
  {
   "cell_type": "code",
   "execution_count": null,
   "metadata": {},
   "outputs": [],
   "source": []
  },
  {
   "cell_type": "code",
   "execution_count": 16,
   "metadata": {},
   "outputs": [
    {
     "name": "stdout",
     "output_type": "stream",
     "text": [
      "../SGNexData/HepG2R6R1_processed.csv\n"
     ]
    },
    {
     "name": "stderr",
     "output_type": "stream",
     "text": [
      "/var/folders/pr/6ds62gwj6td31d_1nxp8lf8w0000gn/T/ipykernel_1854/3382311231.py:43: SettingWithCopyWarning: \n",
      "A value is trying to be set on a copy of a slice from a DataFrame.\n",
      "Try using .loc[row_indexer,col_indexer] = value instead\n",
      "\n",
      "See the caveats in the documentation: https://pandas.pydata.org/pandas-docs/stable/user_guide/indexing.html#returning-a-view-versus-a-copy\n",
      "  output['score'] = pd.Series(predicted_probabilities)\n"
     ]
    },
    {
     "name": "stdout",
     "output_type": "stream",
     "text": [
      "Average Predicted Score for HepG2R6R1_processed.csv: 0.16541372876048788\n",
      "../SGNexData/K562R5R1_processed.csv\n"
     ]
    },
    {
     "name": "stderr",
     "output_type": "stream",
     "text": [
      "/var/folders/pr/6ds62gwj6td31d_1nxp8lf8w0000gn/T/ipykernel_1854/3382311231.py:43: SettingWithCopyWarning: \n",
      "A value is trying to be set on a copy of a slice from a DataFrame.\n",
      "Try using .loc[row_indexer,col_indexer] = value instead\n",
      "\n",
      "See the caveats in the documentation: https://pandas.pydata.org/pandas-docs/stable/user_guide/indexing.html#returning-a-view-versus-a-copy\n",
      "  output['score'] = pd.Series(predicted_probabilities)\n"
     ]
    },
    {
     "name": "stdout",
     "output_type": "stream",
     "text": [
      "Average Predicted Score for K562R5R1_processed.csv: 0.16500349135142378\n",
      "../SGNexData/Hct116R3R4_processed.csv\n"
     ]
    },
    {
     "name": "stderr",
     "output_type": "stream",
     "text": [
      "/var/folders/pr/6ds62gwj6td31d_1nxp8lf8w0000gn/T/ipykernel_1854/3382311231.py:43: SettingWithCopyWarning: \n",
      "A value is trying to be set on a copy of a slice from a DataFrame.\n",
      "Try using .loc[row_indexer,col_indexer] = value instead\n",
      "\n",
      "See the caveats in the documentation: https://pandas.pydata.org/pandas-docs/stable/user_guide/indexing.html#returning-a-view-versus-a-copy\n",
      "  output['score'] = pd.Series(predicted_probabilities)\n"
     ]
    },
    {
     "name": "stdout",
     "output_type": "stream",
     "text": [
      "Average Predicted Score for Hct116R3R4_processed.csv: 0.16926932071363532\n",
      "../SGNexData/Hct116R4R3_processed.csv\n"
     ]
    },
    {
     "name": "stderr",
     "output_type": "stream",
     "text": [
      "/var/folders/pr/6ds62gwj6td31d_1nxp8lf8w0000gn/T/ipykernel_1854/3382311231.py:43: SettingWithCopyWarning: \n",
      "A value is trying to be set on a copy of a slice from a DataFrame.\n",
      "Try using .loc[row_indexer,col_indexer] = value instead\n",
      "\n",
      "See the caveats in the documentation: https://pandas.pydata.org/pandas-docs/stable/user_guide/indexing.html#returning-a-view-versus-a-copy\n",
      "  output['score'] = pd.Series(predicted_probabilities)\n"
     ]
    },
    {
     "name": "stdout",
     "output_type": "stream",
     "text": [
      "Average Predicted Score for Hct116R4R3_processed.csv: 0.17196382928050494\n",
      "../SGNexData/K562R4R1_processed.csv\n"
     ]
    },
    {
     "name": "stderr",
     "output_type": "stream",
     "text": [
      "/var/folders/pr/6ds62gwj6td31d_1nxp8lf8w0000gn/T/ipykernel_1854/3382311231.py:43: SettingWithCopyWarning: \n",
      "A value is trying to be set on a copy of a slice from a DataFrame.\n",
      "Try using .loc[row_indexer,col_indexer] = value instead\n",
      "\n",
      "See the caveats in the documentation: https://pandas.pydata.org/pandas-docs/stable/user_guide/indexing.html#returning-a-view-versus-a-copy\n",
      "  output['score'] = pd.Series(predicted_probabilities)\n"
     ]
    },
    {
     "name": "stdout",
     "output_type": "stream",
     "text": [
      "Average Predicted Score for K562R4R1_processed.csv: 0.16428236289028691\n",
      "../SGNexData/A549R5R1_processed.csv\n"
     ]
    },
    {
     "name": "stderr",
     "output_type": "stream",
     "text": [
      "/var/folders/pr/6ds62gwj6td31d_1nxp8lf8w0000gn/T/ipykernel_1854/3382311231.py:43: SettingWithCopyWarning: \n",
      "A value is trying to be set on a copy of a slice from a DataFrame.\n",
      "Try using .loc[row_indexer,col_indexer] = value instead\n",
      "\n",
      "See the caveats in the documentation: https://pandas.pydata.org/pandas-docs/stable/user_guide/indexing.html#returning-a-view-versus-a-copy\n",
      "  output['score'] = pd.Series(predicted_probabilities)\n"
     ]
    },
    {
     "name": "stdout",
     "output_type": "stream",
     "text": [
      "Average Predicted Score for A549R5R1_processed.csv: 0.16575094679230437\n",
      "../SGNexData/HepG2R5R2_processed.csv\n"
     ]
    },
    {
     "name": "stderr",
     "output_type": "stream",
     "text": [
      "/var/folders/pr/6ds62gwj6td31d_1nxp8lf8w0000gn/T/ipykernel_1854/3382311231.py:43: SettingWithCopyWarning: \n",
      "A value is trying to be set on a copy of a slice from a DataFrame.\n",
      "Try using .loc[row_indexer,col_indexer] = value instead\n",
      "\n",
      "See the caveats in the documentation: https://pandas.pydata.org/pandas-docs/stable/user_guide/indexing.html#returning-a-view-versus-a-copy\n",
      "  output['score'] = pd.Series(predicted_probabilities)\n"
     ]
    },
    {
     "name": "stdout",
     "output_type": "stream",
     "text": [
      "Average Predicted Score for HepG2R5R2_processed.csv: 0.15581502662745655\n",
      "../SGNexData/K562R6R1_processed.csv\n"
     ]
    },
    {
     "name": "stderr",
     "output_type": "stream",
     "text": [
      "/var/folders/pr/6ds62gwj6td31d_1nxp8lf8w0000gn/T/ipykernel_1854/3382311231.py:43: SettingWithCopyWarning: \n",
      "A value is trying to be set on a copy of a slice from a DataFrame.\n",
      "Try using .loc[row_indexer,col_indexer] = value instead\n",
      "\n",
      "See the caveats in the documentation: https://pandas.pydata.org/pandas-docs/stable/user_guide/indexing.html#returning-a-view-versus-a-copy\n",
      "  output['score'] = pd.Series(predicted_probabilities)\n"
     ]
    },
    {
     "name": "stdout",
     "output_type": "stream",
     "text": [
      "Average Predicted Score for K562R6R1_processed.csv: 0.167985907316585\n",
      "../SGNexData/Hct116R3R1_processed.csv\n"
     ]
    },
    {
     "name": "stderr",
     "output_type": "stream",
     "text": [
      "/var/folders/pr/6ds62gwj6td31d_1nxp8lf8w0000gn/T/ipykernel_1854/3382311231.py:43: SettingWithCopyWarning: \n",
      "A value is trying to be set on a copy of a slice from a DataFrame.\n",
      "Try using .loc[row_indexer,col_indexer] = value instead\n",
      "\n",
      "See the caveats in the documentation: https://pandas.pydata.org/pandas-docs/stable/user_guide/indexing.html#returning-a-view-versus-a-copy\n",
      "  output['score'] = pd.Series(predicted_probabilities)\n"
     ]
    },
    {
     "name": "stdout",
     "output_type": "stream",
     "text": [
      "Average Predicted Score for Hct116R3R1_processed.csv: 0.16030882025258222\n",
      "../SGNexData/MCF7R4R1_processed.csv\n"
     ]
    },
    {
     "name": "stderr",
     "output_type": "stream",
     "text": [
      "/var/folders/pr/6ds62gwj6td31d_1nxp8lf8w0000gn/T/ipykernel_1854/3382311231.py:43: SettingWithCopyWarning: \n",
      "A value is trying to be set on a copy of a slice from a DataFrame.\n",
      "Try using .loc[row_indexer,col_indexer] = value instead\n",
      "\n",
      "See the caveats in the documentation: https://pandas.pydata.org/pandas-docs/stable/user_guide/indexing.html#returning-a-view-versus-a-copy\n",
      "  output['score'] = pd.Series(predicted_probabilities)\n"
     ]
    },
    {
     "name": "stdout",
     "output_type": "stream",
     "text": [
      "Average Predicted Score for MCF7R4R1_processed.csv: 0.16205620661373063\n",
      "../SGNexData/MCF7R3R1_processed.csv\n"
     ]
    },
    {
     "name": "stderr",
     "output_type": "stream",
     "text": [
      "/var/folders/pr/6ds62gwj6td31d_1nxp8lf8w0000gn/T/ipykernel_1854/3382311231.py:43: SettingWithCopyWarning: \n",
      "A value is trying to be set on a copy of a slice from a DataFrame.\n",
      "Try using .loc[row_indexer,col_indexer] = value instead\n",
      "\n",
      "See the caveats in the documentation: https://pandas.pydata.org/pandas-docs/stable/user_guide/indexing.html#returning-a-view-versus-a-copy\n",
      "  output['score'] = pd.Series(predicted_probabilities)\n"
     ]
    },
    {
     "name": "stdout",
     "output_type": "stream",
     "text": [
      "Average Predicted Score for MCF7R3R1_processed.csv: 0.16474986368538833\n",
      "../SGNexData/A549R6R1_processed.csv\n"
     ]
    },
    {
     "name": "stderr",
     "output_type": "stream",
     "text": [
      "/var/folders/pr/6ds62gwj6td31d_1nxp8lf8w0000gn/T/ipykernel_1854/3382311231.py:43: SettingWithCopyWarning: \n",
      "A value is trying to be set on a copy of a slice from a DataFrame.\n",
      "Try using .loc[row_indexer,col_indexer] = value instead\n",
      "\n",
      "See the caveats in the documentation: https://pandas.pydata.org/pandas-docs/stable/user_guide/indexing.html#returning-a-view-versus-a-copy\n",
      "  output['score'] = pd.Series(predicted_probabilities)\n"
     ]
    },
    {
     "name": "stdout",
     "output_type": "stream",
     "text": [
      "Average Predicted Score for A549R6R1_processed.csv: 0.16673346754819307\n",
      "[['HepG2R6R1_processed.csv', 0.16541372876048788], ['K562R5R1_processed.csv', 0.16500349135142378], ['K562R5R1_processed.csv', 0.16500349135142378], ['Hct116R3R4_processed.csv', 0.16926932071363532], ['Hct116R4R3_processed.csv', 0.17196382928050494], ['K562R4R1_processed.csv', 0.16428236289028691], ['A549R5R1_processed.csv', 0.16575094679230437], ['HepG2R5R2_processed.csv', 0.15581502662745655], ['K562R6R1_processed.csv', 0.167985907316585], ['Hct116R3R1_processed.csv', 0.16030882025258222], ['MCF7R4R1_processed.csv', 0.16205620661373063], ['MCF7R4R1_processed.csv', 0.16205620661373063], ['MCF7R3R1_processed.csv', 0.16474986368538833], ['A549R6R1_processed.csv', 0.16673346754819307]]\n"
     ]
    }
   ],
   "source": [
    "# Specifying file locations\n",
    "data_folder = \"../SGNexData\"\n",
    "output_folder = \"../output\"\n",
    "\n",
    "cell_line_probabilities = []\n",
    "\n",
    "# Running model predictions\n",
    "for file in os.listdir(data_folder):\n",
    "    if file.endswith(\".csv\"):\n",
    "        df_file_path = os.path.join(data_folder,file)\n",
    "        print(df_file_path)\n",
    "        df = pd.read_csv(df_file_path)\n",
    "\n",
    "        prob = []\n",
    "        prob.append(file)\n",
    "\n",
    "        df['transcript_position'] = df['Position']\n",
    "\n",
    "        df = df[['ENST_ID','Position','Key','transcript_position','mean_Value_1','mean_Value_2','mean_Value_3','mean_Value_4','mean_Value_5','mean_Value_6','mean_Value_7','mean_Value_8','mean_Value_9','median_Value_1','median_Value_2','median_Value_3','median_Value_4','median_Value_5','median_Value_6','median_Value_7','median_Value_8','median_Value_9','min_Value_1','min_Value_2','min_Value_3','min_Value_4','min_Value_5','min_Value_6','min_Value_7','min_Value_8','min_Value_9','max_Value_1','max_Value_2','max_Value_3','max_Value_4','max_Value_5','max_Value_6','max_Value_7','max_Value_8','max_Value_9','std_Value_1','std_Value_2','std_Value_3','std_Value_4','std_Value_5','std_Value_6','std_Value_7','std_Value_8','std_Value_9','transcript_id_encoded','Key_encoded']]\n",
    "\n",
    "        #Rename columns:\n",
    "        df = df.rename(columns={\n",
    "            'ENST_ID': 'transcript_id'\n",
    "            #'Position': 'transcript_position',\n",
    "            #'ENST_ID_encoded': 'transcript_id_encoded'\n",
    "        })\n",
    "\n",
    "        #Drop features that are not needed\n",
    "        #X = df.drop(columns=['transcript_id','Key'])\n",
    "        X = df.drop(columns=['transcript_id','Key'])\n",
    "\n",
    "        # Scale new input data\n",
    "        X_scaled = scaler.transform(X)\n",
    "\n",
    "        # Run model predictions\n",
    "        predicted_probabilities = rf.predict_proba(X_scaled)[:, 1]\n",
    "\n",
    "        # Create output submission file in required format\n",
    "        # transcript_id, transcript_position, score\n",
    "        output = df[['transcript_id', 'transcript_position']]\n",
    "\n",
    "        # Add in prediction scores as 'score' column\n",
    "        output['score'] = pd.Series(predicted_probabilities)\n",
    "\n",
    "        # Obtain the average of the scores and print it out\n",
    "        avg_pred_score = output['score'].mean()\n",
    "        print(f\"Average Predicted Score for {file}: {avg_pred_score}\")\n",
    "\n",
    "        prob.append(avg_pred_score)\n",
    "\n",
    "        # Saving final output file for comparison across cell lines\n",
    "        output_file_name = file.replace(\"_processed\", \"_RF_predict_updated\")\n",
    "        csv_file_path = os.path.join(output_folder, output_file_name)\n",
    "        output.to_csv(csv_file_path, index=False)\n",
    "    \n",
    "    cell_line_probabilities.append(prob)\n",
    "\n",
    "print(cell_line_probabilities)"
   ]
  },
  {
   "cell_type": "code",
   "execution_count": 17,
   "metadata": {},
   "outputs": [
    {
     "name": "stdout",
     "output_type": "stream",
     "text": [
      "[['HepG2R6R1_processed.csv', 0.16541372876048788], ['K562R5R1_processed.csv', 0.16500349135142378], ['K562R5R1_processed.csv', 0.16500349135142378], ['Hct116R3R4_processed.csv', 0.16926932071363532], ['Hct116R4R3_processed.csv', 0.17196382928050494], ['K562R4R1_processed.csv', 0.16428236289028691], ['A549R5R1_processed.csv', 0.16575094679230437], ['HepG2R5R2_processed.csv', 0.15581502662745655], ['K562R6R1_processed.csv', 0.167985907316585], ['Hct116R3R1_processed.csv', 0.16030882025258222], ['MCF7R4R1_processed.csv', 0.16205620661373063], ['MCF7R4R1_processed.csv', 0.16205620661373063], ['MCF7R3R1_processed.csv', 0.16474986368538833], ['A549R6R1_processed.csv', 0.16673346754819307]]\n"
     ]
    }
   ],
   "source": [
    "print(cell_line_probabilities)"
   ]
  }
 ],
 "metadata": {
  "kernelspec": {
   "display_name": "Python 3",
   "language": "python",
   "name": "python3"
  },
  "language_info": {
   "codemirror_mode": {
    "name": "ipython",
    "version": 3
   },
   "file_extension": ".py",
   "mimetype": "text/x-python",
   "name": "python",
   "nbconvert_exporter": "python",
   "pygments_lexer": "ipython3",
   "version": "3.12.2"
  }
 },
 "nbformat": 4,
 "nbformat_minor": 2
}
